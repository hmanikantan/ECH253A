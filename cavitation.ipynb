{
 "cells": [
  {
   "cell_type": "code",
   "execution_count": 2,
   "metadata": {},
   "outputs": [],
   "source": [
    "import numpy as np\n",
    "import matplotlib.pyplot as plt\n",
    "import scipy.integrate as si"
   ]
  },
  {
   "cell_type": "markdown",
   "metadata": {},
   "source": [
    "$$\\frac{p-p_\\infty}{\\rho}=\\frac{3}{2} \\dot{R}^2 + R \\ddot{R} + \\frac{2 \\sigma}{\\rho R} + \\frac{4 \\nu}{R} \\dot{R}$$\n",
    "\n",
    "adiabatic: $p(R) = p_0 \\left(\\frac{R_0}{R}\\right)^{3\\gamma}$"
   ]
  },
  {
   "cell_type": "markdown",
   "metadata": {},
   "source": [
    "$$\\dot{R}=T$$ \n",
    "\n",
    "$$\\dot{T}= \\frac{p_0 R_0^{3\\gamma}-p_\\infty R^{3\\gamma}}{R^{1+3\\gamma} \\rho}-\\frac{3}{2 R} T^2-\\frac{2 \\sigma}{\\rho R^2} - \\frac{4\\nu T}{R^2} $$"
   ]
  },
  {
   "cell_type": "code",
   "execution_count": 60,
   "metadata": {},
   "outputs": [
    {
     "data": {
      "image/png": "[encoded data removed]",
      "text/plain": [
       "<Figure size 432x288 with 1 Axes>"
      ]
     },
     "metadata": {
      "needs_background": "light"
     },
     "output_type": "display_data"
    }
   ],
   "source": [
    "sigma=0.072\n",
    "gamma=1.4\n",
    "rho=1000\n",
    "nu=1e-6\n",
    "pinf=1e5\n",
    "R0=1e-6\n",
    "p0=pinf+2*sigma/R0\n",
    "\n",
    "\n",
    "const1=p0*R0**(3*gamma)\n",
    "const2=2*sigma/rho\n",
    "const3=4*nu\n",
    "\n",
    "def F(Y,t): return [Y[1],(const1-pinf*Y[0]**(3*gamma))/Y[0]**(1+3*gamma)/rho- 1.5*Y[1]**2/Y[0] - const2/Y[0]**2 - const3*Y[1]/Y[0]**2]\n",
    "\n",
    "# time range\n",
    "h=1e-4\n",
    "t=np.arange(0,1e-1+h,h)\n",
    "\n",
    "# Y0 contains two entries, corresponding to two initial conditions\n",
    "Y0=[R0,0]\n",
    "\n",
    "Y= si.odeint(F,Y0,t)\n",
    "\n",
    "R=Y[:,0]\n",
    "Rdot=Y[:,1]\n",
    "p=p0*R0**(3*gamma)/R**(3*gamma)\n",
    "\n",
    "plt.plot(t,R/R0,'b--')\n",
    "#plt.plot(t,Rdot,'r--')\n",
    "#plt.plot(t,p,'r')\n",
    "plt.ylim(0,2)\n",
    "plt.show()"
   ]
  },
  {
   "cell_type": "code",
   "execution_count": 46,
   "metadata": {},
   "outputs": [
    {
     "data": {
      "text/plain": [
       "102880.0"
      ]
     },
     "execution_count": 46,
     "metadata": {},
     "output_type": "execute_result"
    }
   ],
   "source": [
    "p0"
   ]
  },
  {
   "cell_type": "code",
   "execution_count": 61,
   "metadata": {},
   "outputs": [
    {
     "data": {
      "text/plain": [
       "array([1., 1., 1., ..., 1., 1., 1.])"
      ]
     },
     "execution_count": 61,
     "metadata": {},
     "output_type": "execute_result"
    }
   ],
   "source": [
    "R/R0"
   ]
  },
  {
   "cell_type": "code",
   "execution_count": null,
   "metadata": {},
   "outputs": [],
   "source": []
  }
 ],
 "metadata": {
  "kernelspec": {
   "display_name": "Python 3",
   "language": "python",
   "name": "python3"
  },
  "language_info": {
   "codemirror_mode": {
    "name": "ipython",
    "version": 3
   },
   "file_extension": ".py",
   "mimetype": "text/x-python",
   "name": "python",
   "nbconvert_exporter": "python",
   "pygments_lexer": "ipython3",
   "version": "3.7.6"
  }
 },
 "nbformat": 4,
 "nbformat_minor": 4
}
